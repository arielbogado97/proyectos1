{
 "cells": [
  {
   "cell_type": "code",
   "execution_count": 8,
   "id": "6e0dcb43",
   "metadata": {},
   "outputs": [],
   "source": [
    "# Programa que calcule la derivada e integrales\n",
    "from sympy import *\n",
    "from sympy.parsing.sympy_parser import parse_expr\n",
    "from tkinter import * \n",
    "\n",
    "def derivada() :\n",
    "    try:\n",
    "        x = symbols('x') #declarar variable independiente\n",
    "        fun_escrita = funcion.get()\n",
    "        f = parse_expr(fun_escrita)\n",
    "        derivada = diff(f,x)\n",
    "        etiqueta.configure(tex=derivada)\n",
    "    except:\n",
    "        etiqueta.configure(text=\"La función es incorrecta\")\n",
    "def Integral():\n",
    "    try:\n",
    "        x = symbols('x') #declarar variable independiente\n",
    "        fun_escrita2 = funcion.get()\n",
    "        g = parse_expr(fun_escrita2)\n",
    "        integral = integrate(g,x)\n",
    "        etiqueta.configure(text=integral)\n",
    "    except:\n",
    "        etiqueta.configure(text=\"La función es incorrecta\")\n",
    "        \n",
    "        \n",
    "root=Tk()\n",
    "root.geometry(\"400x350\")\n",
    "root.title(\"Cálculo Diferencial e Integral\")\n",
    "\n",
    "anuncio=Label(root,text=\"Introduzca una función de x: \",font=(\"Arial\",15),fg=\"purple\")\n",
    "anuncio.pack()\n",
    "\n",
    "funcion = Entry(root,font=(\"Arial\",15))\n",
    "funcion.pack()\n",
    "\n",
    "etiqueta=Label(root, text=\"Resultado\", font=(\"Arial\",15),fg=\"purple\")\n",
    "etiqueta.pack()\n",
    "\n",
    "boton1 =Button(root, text=\"Derivar Función\", font=(\"Arial\",15), command=derivada)\n",
    "boton1.pack()\n",
    "\n",
    "boton2 =Button(root, text=\"Integrar Función\", font=(\"Arial\",15), command=Integral)\n",
    "boton2.pack()\n",
    "\n",
    "def _quit(): #función salir \n",
    "    root.quit() #detiene mainloop\n",
    "    root.destroy() #elimina la ventana de la memoria\n",
    "    \n",
    "boton3 =Button(master=root, text=\"Salir\", font=(\"Arial\",15), command=_quit)\n",
    "boton3.pack()\n",
    "\n",
    "root.mainloop()\n",
    "        \n",
    "        \n",
    "        "
   ]
  },
  {
   "cell_type": "code",
   "execution_count": null,
   "id": "89f04654",
   "metadata": {},
   "outputs": [],
   "source": []
  },
  {
   "cell_type": "code",
   "execution_count": null,
   "id": "f1d1317e",
   "metadata": {},
   "outputs": [],
   "source": []
  }
 ],
 "metadata": {
  "kernelspec": {
   "display_name": "Python 3 (ipykernel)",
   "language": "python",
   "name": "python3"
  },
  "language_info": {
   "codemirror_mode": {
    "name": "ipython",
    "version": 3
   },
   "file_extension": ".py",
   "mimetype": "text/x-python",
   "name": "python",
   "nbconvert_exporter": "python",
   "pygments_lexer": "ipython3",
   "version": "3.9.7"
  }
 },
 "nbformat": 4,
 "nbformat_minor": 5
}
